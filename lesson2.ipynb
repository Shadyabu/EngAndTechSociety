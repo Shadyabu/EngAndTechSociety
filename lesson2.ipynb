{
  "nbformat": 4,
  "nbformat_minor": 0,
  "metadata": {
    "colab": {
      "provenance": []
    },
    "kernelspec": {
      "name": "python3",
      "display_name": "Python 3"
    },
    "language_info": {
      "name": "python"
    }
  },
  "cells": [
    {
      "cell_type": "code",
      "source": [
        "import random"
      ],
      "metadata": {
        "id": "Cw0rPjG1ohXG"
      },
      "execution_count": null,
      "outputs": []
    },
    {
      "cell_type": "markdown",
      "source": [
        "# Arrays"
      ],
      "metadata": {
        "id": "rlDxkw3hShNE"
      }
    },
    {
      "cell_type": "code",
      "source": [
        "#Create an array called coding_leads and populate it with the values \"Beeebek\", \"Shady\" and \"Niki\"\n",
        "\n",
        "\n",
        "#print the array\n",
        "\n",
        "\n",
        "\n",
        "#Change the value \"Beeebek\" to \"Beebek\" and print the array again\n",
        "\n",
        "\n",
        "\n",
        "#Save the array element that is \"Beebek\" into a new variable called first_element and print it out\n",
        "\n",
        "\n",
        "\n",
        "#Print out the length of the array\n",
        "\n",
        "\n",
        "\n",
        "#Add a \"Sophie\" to the array\n",
        "\n",
        "\n",
        "\n",
        "#Remove \"Sophie\" from the array, using your prefered method.\n",
        "\n"
      ],
      "metadata": {
        "id": "aLnLyKpkSniU"
      },
      "execution_count": null,
      "outputs": []
    },
    {
      "cell_type": "markdown",
      "source": [
        "# **Function examples**"
      ],
      "metadata": {
        "id": "-wgXlHZkxlIP"
      }
    },
    {
      "cell_type": "code",
      "execution_count": null,
      "metadata": {
        "id": "_nd4dZ5KfR_v"
      },
      "outputs": [],
      "source": [
        "def hello_world():\n",
        "  print('hello world')"
      ]
    },
    {
      "cell_type": "code",
      "source": [
        "hello_world()\n",
        "hello_world()"
      ],
      "metadata": {
        "id": "N6pyXXTDfVq3"
      },
      "execution_count": null,
      "outputs": []
    },
    {
      "cell_type": "code",
      "source": [
        "def print_x_times(my_phrase: str, x: int):\n",
        "    print(my_phrase * x)\n",
        "\n",
        "print_x_times(\"hello\", 5)\n",
        "print_x_times(\"goodbye\", 10)"
      ],
      "metadata": {
        "id": "cgPpBBQxfZpT"
      },
      "execution_count": null,
      "outputs": []
    },
    {
      "cell_type": "code",
      "source": [
        "def print_x_times(my_phrase: str, x: int) -> int:\n",
        "    print(my_phrase * x)\n",
        "    return x + 1\n",
        "\n",
        "y = print_x_times(\"hello\", 5)\n",
        "print_x_times(\"goodbye\", 10)\n",
        "print_x_times(10, 10)\n",
        "print(y)"
      ],
      "metadata": {
        "id": "5deVcYSNf9RG"
      },
      "execution_count": null,
      "outputs": []
    },
    {
      "cell_type": "markdown",
      "source": [
        "# **Exercises**"
      ],
      "metadata": {
        "id": "DZRj3NfkiV1b"
      }
    },
    {
      "cell_type": "markdown",
      "source": [
        "FOR LOOPS"
      ],
      "metadata": {
        "id": "AMUEYb7cul1z"
      }
    },
    {
      "cell_type": "markdown",
      "source": [
        "Given the array below finish the tasks"
      ],
      "metadata": {
        "id": "PtC4T0A4g8Kd"
      }
    },
    {
      "cell_type": "code",
      "source": [
        "fruits = [\"banana\", \"apple\", \"orange\", \"pineapple\", \"blueberry\", \"watermelon\"]"
      ],
      "metadata": {
        "id": "J0SlRMdXlkBh"
      },
      "execution_count": null,
      "outputs": []
    },
    {
      "cell_type": "markdown",
      "source": [
        "Print ONLY the first four fruits"
      ],
      "metadata": {
        "id": "CAzC1K0kjOWS"
      }
    },
    {
      "cell_type": "code",
      "source": [],
      "metadata": {
        "id": "em9_K9_riLNZ"
      },
      "execution_count": null,
      "outputs": []
    },
    {
      "cell_type": "markdown",
      "source": [
        "Print ONLY the last two fruit"
      ],
      "metadata": {
        "id": "_5NBz5fvjxtf"
      }
    },
    {
      "cell_type": "code",
      "source": [],
      "metadata": {
        "id": "h5EsoFQ3n822"
      },
      "execution_count": null,
      "outputs": []
    },
    {
      "cell_type": "markdown",
      "source": [
        "Print true if there is **orange** in **fruits** otherwise return false\n",
        "\n",
        "Make sure to check your solution with other fruit too"
      ],
      "metadata": {
        "id": "JUlFl_q6rmNP"
      }
    },
    {
      "cell_type": "code",
      "source": [],
      "metadata": {
        "id": "zQzWmRKHsCIM"
      },
      "execution_count": null,
      "outputs": []
    },
    {
      "cell_type": "markdown",
      "source": [
        "Print ONLY fruits starting with the letter \"b\""
      ],
      "metadata": {
        "id": "d97JOzkYrmE2"
      }
    },
    {
      "cell_type": "code",
      "source": [],
      "metadata": {
        "id": "XNHjgTgasBie"
      },
      "execution_count": null,
      "outputs": []
    },
    {
      "cell_type": "markdown",
      "source": [
        "WHILE LOOPS\n"
      ],
      "metadata": {
        "id": "0aYlW-Y6rlx5"
      }
    },
    {
      "cell_type": "markdown",
      "source": [
        "Given the array below finish the tasks"
      ],
      "metadata": {
        "id": "nJcaWOsnsZBr"
      }
    },
    {
      "cell_type": "code",
      "source": [
        "pets = [\"cat\", \"dog\", \"fish\", \"bird\", \"rabbit\", \"hamster\", \"lizard\"]"
      ],
      "metadata": {
        "id": "dbbpoZEmtAka"
      },
      "execution_count": null,
      "outputs": []
    },
    {
      "cell_type": "markdown",
      "source": [
        "Print true if there is **tiger** in **pets** otherwise print false\n",
        "\n",
        "Test your code with other animals"
      ],
      "metadata": {
        "id": "HKf17yEluyEQ"
      }
    },
    {
      "cell_type": "code",
      "source": [],
      "metadata": {
        "id": "AP7gPcL9vIdo"
      },
      "execution_count": null,
      "outputs": []
    },
    {
      "cell_type": "markdown",
      "source": [
        "Print all pets until you reach \"hamster\" and do not print \"hamster\""
      ],
      "metadata": {
        "id": "2v-9brynsY5Q"
      }
    },
    {
      "cell_type": "code",
      "source": [],
      "metadata": {
        "id": "L5iEvcfcuf9z"
      },
      "execution_count": null,
      "outputs": []
    },
    {
      "cell_type": "markdown",
      "source": [
        "Print ONLY pets that end with \"t\""
      ],
      "metadata": {
        "id": "nnFpN8IQsYvK"
      }
    },
    {
      "cell_type": "code",
      "source": [],
      "metadata": {
        "id": "oJahxpjxuuI8"
      },
      "execution_count": null,
      "outputs": []
    },
    {
      "cell_type": "markdown",
      "source": [
        "## **Build a coin flipping game.**\n",
        "Following the instructions on the slides."
      ],
      "metadata": {
        "id": "qoo_p6fTuUg4"
      }
    },
    {
      "cell_type": "code",
      "source": [],
      "metadata": {
        "id": "N9pxCp0tuTw_"
      },
      "execution_count": null,
      "outputs": []
    }
  ]
}