{
  "nbformat": 4,
  "nbformat_minor": 0,
  "metadata": {
    "colab": {
      "provenance": []
    },
    "kernelspec": {
      "name": "python3",
      "display_name": "Python 3"
    },
    "language_info": {
      "name": "python"
    }
  },
  "cells": [
    {
      "cell_type": "markdown",
      "source": [
        "# **Function exercises**"
      ],
      "metadata": {
        "id": "C2-Ora2_s-iD"
      }
    },
    {
      "cell_type": "markdown",
      "source": [
        "Write a function that takes a boolean as an input and returns the opposite."
      ],
      "metadata": {
        "id": "yC7CoXF_s2yd"
      }
    },
    {
      "cell_type": "code",
      "execution_count": null,
      "metadata": {
        "id": "0J6_vZwRskHl"
      },
      "outputs": [],
      "source": []
    },
    {
      "cell_type": "markdown",
      "source": [
        "Write a function to calculate the area of a circle. Call your function with different values for the radius."
      ],
      "metadata": {
        "id": "rBJsbSd4s49g"
      }
    },
    {
      "cell_type": "code",
      "source": [],
      "metadata": {
        "id": "NAyAsdlFs3jM"
      },
      "execution_count": null,
      "outputs": []
    },
    {
      "cell_type": "markdown",
      "source": [
        "Write a function to calculate acceleration. If your speed is 200 m/s, and after 10 seconds your speed was 500 m/s, what was the acceleration?"
      ],
      "metadata": {
        "id": "6trmxeBas9EK"
      }
    },
    {
      "cell_type": "code",
      "source": [],
      "metadata": {
        "id": "0edQ9CuJs9kk"
      },
      "execution_count": null,
      "outputs": []
    }
  ]
}